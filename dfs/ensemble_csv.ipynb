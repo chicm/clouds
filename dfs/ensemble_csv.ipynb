{
 "cells": [
  {
   "cell_type": "code",
   "execution_count": 101,
   "metadata": {},
   "outputs": [],
   "source": [
    "import pandas as pd\n",
    "import numpy as np\n",
    "import glob\n",
    "import matplotlib.pyplot as plt\n",
    "%matplotlib inline\n",
    "from tqdm import tqdm"
   ]
  },
  {
   "cell_type": "code",
   "execution_count": 102,
   "metadata": {},
   "outputs": [
    {
     "name": "stdout",
     "output_type": "stream",
     "text": [
      "20191023_02_29_blending_unet_b3b5b7_mean_sub_lb660.csv\r\n",
      "ens_7_lb662_class_params.txt\r\n",
      "ens_7models_tta_lb662.csv\r\n",
      "ensemble_csv.ipynb\r\n",
      "mean_3dfs.csv\r\n",
      "mean_3dfs_tmp.csv\r\n",
      "submission_segmentation_and_classifier_lb660.csv\r\n",
      "Untitled.ipynb\r\n"
     ]
    }
   ],
   "source": [
    "!ls"
   ]
  },
  {
   "cell_type": "code",
   "execution_count": 104,
   "metadata": {},
   "outputs": [
    {
     "data": {
      "text/plain": [
       "['20191023_02_29_blending_unet_b3b5b7_mean_sub_lb660.csv',\n",
       " 'ens_7models_tta_lb662.csv',\n",
       " 'submission_segmentation_and_classifier_lb660.csv',\n",
       " 'mean_3dfs_tmp.csv',\n",
       " 'mean_3dfs.csv']"
      ]
     },
     "execution_count": 104,
     "metadata": {},
     "output_type": "execute_result"
    }
   ],
   "source": [
    "glob.glob('*.csv')"
   ]
  },
  {
   "cell_type": "code",
   "execution_count": 105,
   "metadata": {},
   "outputs": [],
   "source": [
    "fns = [\n",
    "    '20191023_02_29_blending_unet_b3b5b7_mean_sub_lb660.csv',\n",
    "    'ens_7models_tta_lb662.csv',\n",
    "    'submission_segmentation_and_classifier_lb660.csv'\n",
    "]"
   ]
  },
  {
   "cell_type": "code",
   "execution_count": 106,
   "metadata": {},
   "outputs": [],
   "source": [
    "dfs = [pd.read_csv(x) for x in fns]"
   ]
  },
  {
   "cell_type": "code",
   "execution_count": 107,
   "metadata": {},
   "outputs": [],
   "source": [
    "for df in dfs:\n",
    "    df.EncodedPixels = df.EncodedPixels.fillna('')"
   ]
  },
  {
   "cell_type": "code",
   "execution_count": 108,
   "metadata": {},
   "outputs": [
    {
     "data": {
      "text/html": [
       "<div>\n",
       "<style scoped>\n",
       "    .dataframe tbody tr th:only-of-type {\n",
       "        vertical-align: middle;\n",
       "    }\n",
       "\n",
       "    .dataframe tbody tr th {\n",
       "        vertical-align: top;\n",
       "    }\n",
       "\n",
       "    .dataframe thead th {\n",
       "        text-align: right;\n",
       "    }\n",
       "</style>\n",
       "<table border=\"1\" class=\"dataframe\">\n",
       "  <thead>\n",
       "    <tr style=\"text-align: right;\">\n",
       "      <th></th>\n",
       "      <th>Image_Label</th>\n",
       "      <th>EncodedPixels</th>\n",
       "    </tr>\n",
       "  </thead>\n",
       "  <tbody>\n",
       "    <tr>\n",
       "      <th>0</th>\n",
       "      <td>002f507.jpg_Fish</td>\n",
       "      <td></td>\n",
       "    </tr>\n",
       "    <tr>\n",
       "      <th>1</th>\n",
       "      <td>002f507.jpg_Flower</td>\n",
       "      <td></td>\n",
       "    </tr>\n",
       "    <tr>\n",
       "      <th>2</th>\n",
       "      <td>002f507.jpg_Gravel</td>\n",
       "      <td>8 226 240 10 260 25 352 345 702 347 1052 348 1...</td>\n",
       "    </tr>\n",
       "    <tr>\n",
       "      <th>3</th>\n",
       "      <td>002f507.jpg_Sugar</td>\n",
       "      <td></td>\n",
       "    </tr>\n",
       "    <tr>\n",
       "      <th>4</th>\n",
       "      <td>0035ae9.jpg_Fish</td>\n",
       "      <td></td>\n",
       "    </tr>\n",
       "  </tbody>\n",
       "</table>\n",
       "</div>"
      ],
      "text/plain": [
       "          Image_Label                                      EncodedPixels\n",
       "0    002f507.jpg_Fish                                                   \n",
       "1  002f507.jpg_Flower                                                   \n",
       "2  002f507.jpg_Gravel  8 226 240 10 260 25 352 345 702 347 1052 348 1...\n",
       "3   002f507.jpg_Sugar                                                   \n",
       "4    0035ae9.jpg_Fish                                                   "
      ]
     },
     "execution_count": 108,
     "metadata": {},
     "output_type": "execute_result"
    }
   ],
   "source": [
    "dfs[0].head(5)"
   ]
  },
  {
   "cell_type": "code",
   "execution_count": 109,
   "metadata": {},
   "outputs": [
    {
     "data": {
      "text/plain": [
       "True"
      ]
     },
     "execution_count": 109,
     "metadata": {},
     "output_type": "execute_result"
    }
   ],
   "source": [
    "all(dfs[0].Image_Label.values == dfs[2].Image_Label.values)"
   ]
  },
  {
   "cell_type": "code",
   "execution_count": 110,
   "metadata": {},
   "outputs": [],
   "source": [
    "def rle_decode(mask_rle: str = '', shape: tuple = (350, 525)):\n",
    "    '''\n",
    "    Decode rle encoded mask.\n",
    "    \n",
    "    :param mask_rle: run-length as string formatted (start length)\n",
    "    :param shape: (height, width) of array to return \n",
    "    Returns numpy array, 1 - mask, 0 - background\n",
    "    '''\n",
    "    if len(mask_rle) < 1:\n",
    "        return np.zeros(shape, dtype=np.uint8)\n",
    "    s = mask_rle.split()\n",
    "    starts, lengths = [np.asarray(x, dtype=int) for x in (s[0:][::2], s[1:][::2])]\n",
    "    starts -= 1\n",
    "    ends = starts + lengths\n",
    "    img = np.zeros(shape[0] * shape[1], dtype=np.uint8)\n",
    "    for lo, hi in zip(starts, ends):\n",
    "        img[lo:hi] = 1\n",
    "    return img.reshape(shape, order='F')\n",
    "\n",
    "def mask2rle(img):\n",
    "    '''\n",
    "    Convert mask to rle.\n",
    "    img: numpy array, 1 - mask, 0 - background\n",
    "    Returns run length as string formated\n",
    "    '''\n",
    "    pixels= img.T.flatten()\n",
    "    pixels = np.concatenate([[0], pixels, [0]])\n",
    "    runs = np.where(pixels[1:] != pixels[:-1])[0] + 1\n",
    "    runs[1::2] -= runs[::2]\n",
    "    return ' '.join(str(x) for x in runs)\n"
   ]
  },
  {
   "cell_type": "code",
   "execution_count": 113,
   "metadata": {},
   "outputs": [],
   "source": [
    "for df in dfs:\n",
    "    df['masks'] = df.EncodedPixels.map(lambda x: rle_decode(x))"
   ]
  },
  {
   "cell_type": "code",
   "execution_count": 114,
   "metadata": {},
   "outputs": [
    {
     "data": {
      "text/html": [
       "<div>\n",
       "<style scoped>\n",
       "    .dataframe tbody tr th:only-of-type {\n",
       "        vertical-align: middle;\n",
       "    }\n",
       "\n",
       "    .dataframe tbody tr th {\n",
       "        vertical-align: top;\n",
       "    }\n",
       "\n",
       "    .dataframe thead th {\n",
       "        text-align: right;\n",
       "    }\n",
       "</style>\n",
       "<table border=\"1\" class=\"dataframe\">\n",
       "  <thead>\n",
       "    <tr style=\"text-align: right;\">\n",
       "      <th></th>\n",
       "      <th>Image_Label</th>\n",
       "      <th>EncodedPixels</th>\n",
       "      <th>masks</th>\n",
       "    </tr>\n",
       "  </thead>\n",
       "  <tbody>\n",
       "    <tr>\n",
       "      <th>0</th>\n",
       "      <td>002f507.jpg_Fish</td>\n",
       "      <td></td>\n",
       "      <td>[[0, 0, 0, 0, 0, 0, 0, 0, 0, 0, 0, 0, 0, 0, 0,...</td>\n",
       "    </tr>\n",
       "    <tr>\n",
       "      <th>1</th>\n",
       "      <td>002f507.jpg_Flower</td>\n",
       "      <td></td>\n",
       "      <td>[[0, 0, 0, 0, 0, 0, 0, 0, 0, 0, 0, 0, 0, 0, 0,...</td>\n",
       "    </tr>\n",
       "    <tr>\n",
       "      <th>2</th>\n",
       "      <td>002f507.jpg_Gravel</td>\n",
       "      <td>8 226 240 10 260 25 352 345 702 347 1052 348 1...</td>\n",
       "      <td>[[0, 0, 0, 0, 0, 0, 1, 1, 1, 0, 0, 0, 0, 0, 0,...</td>\n",
       "    </tr>\n",
       "    <tr>\n",
       "      <th>3</th>\n",
       "      <td>002f507.jpg_Sugar</td>\n",
       "      <td></td>\n",
       "      <td>[[0, 0, 0, 0, 0, 0, 0, 0, 0, 0, 0, 0, 0, 0, 0,...</td>\n",
       "    </tr>\n",
       "    <tr>\n",
       "      <th>4</th>\n",
       "      <td>0035ae9.jpg_Fish</td>\n",
       "      <td></td>\n",
       "      <td>[[0, 0, 0, 0, 0, 0, 0, 0, 0, 0, 0, 0, 0, 0, 0,...</td>\n",
       "    </tr>\n",
       "    <tr>\n",
       "      <th>5</th>\n",
       "      <td>0035ae9.jpg_Flower</td>\n",
       "      <td></td>\n",
       "      <td>[[0, 0, 0, 0, 0, 0, 0, 0, 0, 0, 0, 0, 0, 0, 0,...</td>\n",
       "    </tr>\n",
       "    <tr>\n",
       "      <th>6</th>\n",
       "      <td>0035ae9.jpg_Gravel</td>\n",
       "      <td>439 174 785 186 1135 187 1484 190 1684 1 1832 ...</td>\n",
       "      <td>[[0, 0, 0, 0, 0, 0, 0, 0, 0, 0, 0, 0, 0, 0, 0,...</td>\n",
       "    </tr>\n",
       "    <tr>\n",
       "      <th>7</th>\n",
       "      <td>0035ae9.jpg_Sugar</td>\n",
       "      <td>2771 10 3119 19 3462 3 3467 24 3810 36 4159 38...</td>\n",
       "      <td>[[0, 0, 0, 0, 0, 0, 0, 0, 0, 0, 0, 0, 0, 0, 0,...</td>\n",
       "    </tr>\n",
       "    <tr>\n",
       "      <th>8</th>\n",
       "      <td>0038327.jpg_Fish</td>\n",
       "      <td></td>\n",
       "      <td>[[0, 0, 0, 0, 0, 0, 0, 0, 0, 0, 0, 0, 0, 0, 0,...</td>\n",
       "    </tr>\n",
       "    <tr>\n",
       "      <th>9</th>\n",
       "      <td>0038327.jpg_Flower</td>\n",
       "      <td>142344 7 142692 10 142710 3 143040 25 143389 2...</td>\n",
       "      <td>[[0, 0, 0, 0, 0, 0, 0, 0, 0, 0, 0, 0, 0, 0, 0,...</td>\n",
       "    </tr>\n",
       "  </tbody>\n",
       "</table>\n",
       "</div>"
      ],
      "text/plain": [
       "          Image_Label                                      EncodedPixels  \\\n",
       "0    002f507.jpg_Fish                                                      \n",
       "1  002f507.jpg_Flower                                                      \n",
       "2  002f507.jpg_Gravel  8 226 240 10 260 25 352 345 702 347 1052 348 1...   \n",
       "3   002f507.jpg_Sugar                                                      \n",
       "4    0035ae9.jpg_Fish                                                      \n",
       "5  0035ae9.jpg_Flower                                                      \n",
       "6  0035ae9.jpg_Gravel  439 174 785 186 1135 187 1484 190 1684 1 1832 ...   \n",
       "7   0035ae9.jpg_Sugar  2771 10 3119 19 3462 3 3467 24 3810 36 4159 38...   \n",
       "8    0038327.jpg_Fish                                                      \n",
       "9  0038327.jpg_Flower  142344 7 142692 10 142710 3 143040 25 143389 2...   \n",
       "\n",
       "                                               masks  \n",
       "0  [[0, 0, 0, 0, 0, 0, 0, 0, 0, 0, 0, 0, 0, 0, 0,...  \n",
       "1  [[0, 0, 0, 0, 0, 0, 0, 0, 0, 0, 0, 0, 0, 0, 0,...  \n",
       "2  [[0, 0, 0, 0, 0, 0, 1, 1, 1, 0, 0, 0, 0, 0, 0,...  \n",
       "3  [[0, 0, 0, 0, 0, 0, 0, 0, 0, 0, 0, 0, 0, 0, 0,...  \n",
       "4  [[0, 0, 0, 0, 0, 0, 0, 0, 0, 0, 0, 0, 0, 0, 0,...  \n",
       "5  [[0, 0, 0, 0, 0, 0, 0, 0, 0, 0, 0, 0, 0, 0, 0,...  \n",
       "6  [[0, 0, 0, 0, 0, 0, 0, 0, 0, 0, 0, 0, 0, 0, 0,...  \n",
       "7  [[0, 0, 0, 0, 0, 0, 0, 0, 0, 0, 0, 0, 0, 0, 0,...  \n",
       "8  [[0, 0, 0, 0, 0, 0, 0, 0, 0, 0, 0, 0, 0, 0, 0,...  \n",
       "9  [[0, 0, 0, 0, 0, 0, 0, 0, 0, 0, 0, 0, 0, 0, 0,...  "
      ]
     },
     "execution_count": 114,
     "metadata": {},
     "output_type": "execute_result"
    }
   ],
   "source": [
    "dfs[0].head(10)"
   ]
  },
  {
   "cell_type": "code",
   "execution_count": 115,
   "metadata": {},
   "outputs": [
    {
     "data": {
      "text/plain": [
       "<matplotlib.image.AxesImage at 0x7f17e7a61588>"
      ]
     },
     "execution_count": 115,
     "metadata": {},
     "output_type": "execute_result"
    },
    {
     "data": {
      "image/png": "[encoded data removed]",
      "text/plain": [
       "<Figure size 432x288 with 1 Axes>"
      ]
     },
     "metadata": {
      "needs_background": "light"
     },
     "output_type": "display_data"
    }
   ],
   "source": [
    "plt.imshow(dfs[0].iloc[7].masks)"
   ]
  },
  {
   "cell_type": "code",
   "execution_count": 116,
   "metadata": {},
   "outputs": [
    {
     "name": "stderr",
     "output_type": "stream",
     "text": [
      "100%|██████████| 14792/14792 [00:31<00:00, 471.17it/s]\n"
     ]
    }
   ],
   "source": [
    "mean_masks = []\n",
    "for i in tqdm(range(len(dfs[0])), total=len(dfs[0])):\n",
    "    img_masks = []\n",
    "    for df in dfs:\n",
    "        img_masks.append(df.iloc[i].masks)\n",
    "    mean_masks.append((np.mean(img_masks, 0) > 0.5).astype(np.uint8))"
   ]
  },
  {
   "cell_type": "code",
   "execution_count": 117,
   "metadata": {},
   "outputs": [],
   "source": [
    "dfs[0]['mean_masks'] = mean_masks"
   ]
  },
  {
   "cell_type": "code",
   "execution_count": 118,
   "metadata": {},
   "outputs": [
    {
     "data": {
      "text/plain": [
       "<matplotlib.image.AxesImage at 0x7f17e78e6438>"
      ]
     },
     "execution_count": 118,
     "metadata": {},
     "output_type": "execute_result"
    },
    {
     "data": {
      "image/png": "[encoded data removed]",
      "text/plain": [
       "<Figure size 432x288 with 1 Axes>"
      ]
     },
     "metadata": {
      "needs_background": "light"
     },
     "output_type": "display_data"
    }
   ],
   "source": [
    "plt.imshow(dfs[0].iloc[7].mean_masks)"
   ]
  },
  {
   "cell_type": "code",
   "execution_count": 119,
   "metadata": {},
   "outputs": [],
   "source": [
    "dfs[0].EncodedPixels = dfs[0].mean_masks.map(lambda x: mask2rle(x))"
   ]
  },
  {
   "cell_type": "code",
   "execution_count": 120,
   "metadata": {},
   "outputs": [
    {
     "data": {
      "text/html": [
       "<div>\n",
       "<style scoped>\n",
       "    .dataframe tbody tr th:only-of-type {\n",
       "        vertical-align: middle;\n",
       "    }\n",
       "\n",
       "    .dataframe tbody tr th {\n",
       "        vertical-align: top;\n",
       "    }\n",
       "\n",
       "    .dataframe thead th {\n",
       "        text-align: right;\n",
       "    }\n",
       "</style>\n",
       "<table border=\"1\" class=\"dataframe\">\n",
       "  <thead>\n",
       "    <tr style=\"text-align: right;\">\n",
       "      <th></th>\n",
       "      <th>Image_Label</th>\n",
       "      <th>EncodedPixels</th>\n",
       "      <th>masks</th>\n",
       "      <th>mean_masks</th>\n",
       "    </tr>\n",
       "  </thead>\n",
       "  <tbody>\n",
       "    <tr>\n",
       "      <th>0</th>\n",
       "      <td>002f507.jpg_Fish</td>\n",
       "      <td></td>\n",
       "      <td>[[0, 0, 0, 0, 0, 0, 0, 0, 0, 0, 0, 0, 0, 0, 0,...</td>\n",
       "      <td>[[0, 0, 0, 0, 0, 0, 0, 0, 0, 0, 0, 0, 0, 0, 0,...</td>\n",
       "    </tr>\n",
       "    <tr>\n",
       "      <th>1</th>\n",
       "      <td>002f507.jpg_Flower</td>\n",
       "      <td></td>\n",
       "      <td>[[0, 0, 0, 0, 0, 0, 0, 0, 0, 0, 0, 0, 0, 0, 0,...</td>\n",
       "      <td>[[0, 0, 0, 0, 0, 0, 0, 0, 0, 0, 0, 0, 0, 0, 0,...</td>\n",
       "    </tr>\n",
       "    <tr>\n",
       "      <th>2</th>\n",
       "      <td>002f507.jpg_Gravel</td>\n",
       "      <td>5 337 352 345 702 347 1052 347 1401 349 1751 3...</td>\n",
       "      <td>[[0, 0, 0, 0, 0, 0, 1, 1, 1, 0, 0, 0, 0, 0, 0,...</td>\n",
       "      <td>[[0, 0, 0, 0, 1, 1, 1, 1, 1, 1, 1, 1, 1, 1, 1,...</td>\n",
       "    </tr>\n",
       "    <tr>\n",
       "      <th>3</th>\n",
       "      <td>002f507.jpg_Sugar</td>\n",
       "      <td></td>\n",
       "      <td>[[0, 0, 0, 0, 0, 0, 0, 0, 0, 0, 0, 0, 0, 0, 0,...</td>\n",
       "      <td>[[0, 0, 0, 0, 0, 0, 0, 0, 0, 0, 0, 0, 0, 0, 0,...</td>\n",
       "    </tr>\n",
       "    <tr>\n",
       "      <th>4</th>\n",
       "      <td>0035ae9.jpg_Fish</td>\n",
       "      <td></td>\n",
       "      <td>[[0, 0, 0, 0, 0, 0, 0, 0, 0, 0, 0, 0, 0, 0, 0,...</td>\n",
       "      <td>[[0, 0, 0, 0, 0, 0, 0, 0, 0, 0, 0, 0, 0, 0, 0,...</td>\n",
       "    </tr>\n",
       "    <tr>\n",
       "      <th>5</th>\n",
       "      <td>0035ae9.jpg_Flower</td>\n",
       "      <td></td>\n",
       "      <td>[[0, 0, 0, 0, 0, 0, 0, 0, 0, 0, 0, 0, 0, 0, 0,...</td>\n",
       "      <td>[[0, 0, 0, 0, 0, 0, 0, 0, 0, 0, 0, 0, 0, 0, 0,...</td>\n",
       "    </tr>\n",
       "    <tr>\n",
       "      <th>6</th>\n",
       "      <td>0035ae9.jpg_Gravel</td>\n",
       "      <td>159 5 165 1 181 7 197 4 439 174 618 4 776 210 ...</td>\n",
       "      <td>[[0, 0, 0, 0, 0, 0, 0, 0, 0, 0, 0, 0, 0, 0, 0,...</td>\n",
       "      <td>[[0, 0, 0, 0, 0, 0, 0, 0, 0, 0, 0, 0, 0, 0, 0,...</td>\n",
       "    </tr>\n",
       "    <tr>\n",
       "      <th>7</th>\n",
       "      <td>0035ae9.jpg_Sugar</td>\n",
       "      <td>669 7 972 7 1010 20 1312 25 1349 39 1645 97 19...</td>\n",
       "      <td>[[0, 0, 0, 0, 0, 0, 0, 0, 0, 0, 0, 0, 0, 0, 0,...</td>\n",
       "      <td>[[0, 0, 0, 0, 0, 0, 0, 0, 0, 0, 0, 0, 0, 0, 0,...</td>\n",
       "    </tr>\n",
       "    <tr>\n",
       "      <th>8</th>\n",
       "      <td>0038327.jpg_Fish</td>\n",
       "      <td></td>\n",
       "      <td>[[0, 0, 0, 0, 0, 0, 0, 0, 0, 0, 0, 0, 0, 0, 0,...</td>\n",
       "      <td>[[0, 0, 0, 0, 0, 0, 0, 0, 0, 0, 0, 0, 0, 0, 0,...</td>\n",
       "    </tr>\n",
       "    <tr>\n",
       "      <th>9</th>\n",
       "      <td>0038327.jpg_Flower</td>\n",
       "      <td></td>\n",
       "      <td>[[0, 0, 0, 0, 0, 0, 0, 0, 0, 0, 0, 0, 0, 0, 0,...</td>\n",
       "      <td>[[0, 0, 0, 0, 0, 0, 0, 0, 0, 0, 0, 0, 0, 0, 0,...</td>\n",
       "    </tr>\n",
       "  </tbody>\n",
       "</table>\n",
       "</div>"
      ],
      "text/plain": [
       "          Image_Label                                      EncodedPixels  \\\n",
       "0    002f507.jpg_Fish                                                      \n",
       "1  002f507.jpg_Flower                                                      \n",
       "2  002f507.jpg_Gravel  5 337 352 345 702 347 1052 347 1401 349 1751 3...   \n",
       "3   002f507.jpg_Sugar                                                      \n",
       "4    0035ae9.jpg_Fish                                                      \n",
       "5  0035ae9.jpg_Flower                                                      \n",
       "6  0035ae9.jpg_Gravel  159 5 165 1 181 7 197 4 439 174 618 4 776 210 ...   \n",
       "7   0035ae9.jpg_Sugar  669 7 972 7 1010 20 1312 25 1349 39 1645 97 19...   \n",
       "8    0038327.jpg_Fish                                                      \n",
       "9  0038327.jpg_Flower                                                      \n",
       "\n",
       "                                               masks  \\\n",
       "0  [[0, 0, 0, 0, 0, 0, 0, 0, 0, 0, 0, 0, 0, 0, 0,...   \n",
       "1  [[0, 0, 0, 0, 0, 0, 0, 0, 0, 0, 0, 0, 0, 0, 0,...   \n",
       "2  [[0, 0, 0, 0, 0, 0, 1, 1, 1, 0, 0, 0, 0, 0, 0,...   \n",
       "3  [[0, 0, 0, 0, 0, 0, 0, 0, 0, 0, 0, 0, 0, 0, 0,...   \n",
       "4  [[0, 0, 0, 0, 0, 0, 0, 0, 0, 0, 0, 0, 0, 0, 0,...   \n",
       "5  [[0, 0, 0, 0, 0, 0, 0, 0, 0, 0, 0, 0, 0, 0, 0,...   \n",
       "6  [[0, 0, 0, 0, 0, 0, 0, 0, 0, 0, 0, 0, 0, 0, 0,...   \n",
       "7  [[0, 0, 0, 0, 0, 0, 0, 0, 0, 0, 0, 0, 0, 0, 0,...   \n",
       "8  [[0, 0, 0, 0, 0, 0, 0, 0, 0, 0, 0, 0, 0, 0, 0,...   \n",
       "9  [[0, 0, 0, 0, 0, 0, 0, 0, 0, 0, 0, 0, 0, 0, 0,...   \n",
       "\n",
       "                                          mean_masks  \n",
       "0  [[0, 0, 0, 0, 0, 0, 0, 0, 0, 0, 0, 0, 0, 0, 0,...  \n",
       "1  [[0, 0, 0, 0, 0, 0, 0, 0, 0, 0, 0, 0, 0, 0, 0,...  \n",
       "2  [[0, 0, 0, 0, 1, 1, 1, 1, 1, 1, 1, 1, 1, 1, 1,...  \n",
       "3  [[0, 0, 0, 0, 0, 0, 0, 0, 0, 0, 0, 0, 0, 0, 0,...  \n",
       "4  [[0, 0, 0, 0, 0, 0, 0, 0, 0, 0, 0, 0, 0, 0, 0,...  \n",
       "5  [[0, 0, 0, 0, 0, 0, 0, 0, 0, 0, 0, 0, 0, 0, 0,...  \n",
       "6  [[0, 0, 0, 0, 0, 0, 0, 0, 0, 0, 0, 0, 0, 0, 0,...  \n",
       "7  [[0, 0, 0, 0, 0, 0, 0, 0, 0, 0, 0, 0, 0, 0, 0,...  \n",
       "8  [[0, 0, 0, 0, 0, 0, 0, 0, 0, 0, 0, 0, 0, 0, 0,...  \n",
       "9  [[0, 0, 0, 0, 0, 0, 0, 0, 0, 0, 0, 0, 0, 0, 0,...  "
      ]
     },
     "execution_count": 120,
     "metadata": {},
     "output_type": "execute_result"
    }
   ],
   "source": [
    "dfs[0].head(10)"
   ]
  },
  {
   "cell_type": "code",
   "execution_count": 121,
   "metadata": {},
   "outputs": [],
   "source": [
    "dfs[0].to_csv('mean_3dfs_tmp2.csv', columns=['Image_Label', 'EncodedPixels'], index=False)"
   ]
  },
  {
   "cell_type": "code",
   "execution_count": 122,
   "metadata": {},
   "outputs": [
    {
     "name": "stdout",
     "output_type": "stream",
     "text": [
      "98b1b5f3abbad257be86e945008d7894  20191023_02_29_blending_unet_b3b5b7_mean_sub_lb660.csv\n",
      "927ae361f0d8020d051cd535dbdc9649  ens_7models_tta_lb662.csv\n",
      "b7a014969ee9dad920038cbb282b2564  mean_3dfs.csv\n",
      "b7a014969ee9dad920038cbb282b2564  mean_3dfs_tmp.csv\n",
      "b7a014969ee9dad920038cbb282b2564  mean_3dfs_tmp2.csv\n",
      "f93d417a4ccccc3f9fb7ff5612de6314  submission_segmentation_and_classifier_lb660.csv\n"
     ]
    }
   ],
   "source": [
    "!md5sum *.csv"
   ]
  },
  {
   "cell_type": "code",
   "execution_count": 79,
   "metadata": {},
   "outputs": [
    {
     "name": "stdout",
     "output_type": "stream",
     "text": [
      "total 92M\r\n",
      "-rw-rw-r-- 1 core core 22M Oct 24 11:38 20191023_02_29_blending_unet_b3b5b7_mean_sub_lb660.csv\r\n",
      "-rw-rw-r-- 1 core core 812 Oct 24 11:43 ens_7_lb662_class_params.txt\r\n",
      "-rw-rw-r-- 1 core core 21M Oct 24 11:38 ens_7models_tta_lb662.csv\r\n",
      "-rw-rw-r-- 1 core core 46K Oct 24 15:06 ensemble_csv.ipynb\r\n",
      "-rw-rw-r-- 1 core core 23M Oct 24 15:06 mean_3dfs.csv\r\n",
      "-rw-rw-r-- 1 core core 28M Oct 24 11:41 submission_segmentation_and_classifier_lb660.csv\r\n",
      "-rw-rw-r-- 1 core core  72 Oct 24 14:26 Untitled.ipynb\r\n"
     ]
    }
   ],
   "source": [
    "!ls -lh"
   ]
  },
  {
   "cell_type": "code",
   "execution_count": 80,
   "metadata": {},
   "outputs": [
    {
     "name": "stdout",
     "output_type": "stream",
     "text": [
      "ref                                            deadline             category            reward  teamCount  userHasEntered  \r\n",
      "---------------------------------------------  -------------------  ---------------  ---------  ---------  --------------  \r\n",
      "digit-recognizer                               2030-01-01 00:00:00  Getting Started  Knowledge       2448            True  \r\n",
      "titanic                                        2030-01-01 00:00:00  Getting Started  Knowledge      12735            True  \r\n",
      "house-prices-advanced-regression-techniques    2030-01-01 00:00:00  Getting Started  Knowledge       4862           False  \r\n",
      "imagenet-object-localization-challenge         2029-12-31 07:00:00  Research         Knowledge         56            True  \r\n",
      "data-science-bowl-2019                         2020-01-22 23:59:00  Featured          $160,000          8           False  \r\n",
      "pku-autonomous-driving                         2020-01-21 23:59:00  Featured           $25,000         28           False  \r\n",
      "competitive-data-science-predict-future-sales  2019-12-31 23:59:00  Playground           Kudos       4570           False  \r\n",
      "ashrae-energy-prediction                       2019-12-19 23:59:00  Featured           $25,000        891           False  \r\n",
      "Kannada-MNIST                                  2019-12-17 23:59:00  Playground       Knowledge        504           False  \r\n",
      "bigquery-geotab-intersection-congestion        2019-12-12 23:59:00  Playground           Kudos        312           False  \r\n",
      "cat-in-the-dat                                 2019-12-09 23:59:00  Playground            Swag        879           False  \r\n",
      "nfl-big-data-bowl-2020                         2019-11-27 23:59:00  Featured           $75,000        910           False  \r\n",
      "understanding_cloud_organization               2019-11-18 23:59:00  Research           $10,000        990           False  \r\n",
      "3d-object-detection-for-autonomous-vehicles    2019-11-12 23:59:00  Featured           $25,000        377           False  \r\n",
      "rsna-intracranial-hemorrhage-detection         2019-11-11 23:59:00  Featured           $25,000       1165            True  \r\n",
      "severstal-steel-defect-detection               2019-10-24 23:59:00  Featured          $120,000       2429           False  \r\n",
      "kuzushiji-recognition                          2019-10-14 23:59:00  Playground         $15,000        293           False  \r\n",
      "youtube8m-2019                                 2019-10-11 23:59:00  Research           $25,000        283           False  \r\n",
      "ieee-fraud-detection                           2019-10-03 23:59:00  Research           $20,000       6381           False  \r\n",
      "open-images-2019-object-detection              2019-10-01 23:59:00  Research           $25,000        559           False  \r\n"
     ]
    }
   ],
   "source": [
    "!kaggle competitions list"
   ]
  },
  {
   "cell_type": "code",
   "execution_count": 81,
   "metadata": {},
   "outputs": [
    {
     "name": "stdout",
     "output_type": "stream",
     "text": [
      "100%|██████████████████████████████████████| 22.6M/22.6M [00:13<00:00, 1.72MB/s]\n",
      "403 - Forbidden\n"
     ]
    }
   ],
   "source": [
    "!kaggle competitions submit -c understanding_cloud_organization -f mean_3dfs.csv -m 'mean df'"
   ]
  },
  {
   "cell_type": "code",
   "execution_count": 82,
   "metadata": {},
   "outputs": [
    {
     "name": "stdout",
     "output_type": "stream",
     "text": [
      "Image_Label,EncodedPixels\r\n",
      "002f507.jpg_Fish,\r\n"
     ]
    }
   ],
   "source": [
    "!head -n 2 mean_3dfs.csv"
   ]
  },
  {
   "cell_type": "code",
   "execution_count": null,
   "metadata": {},
   "outputs": [],
   "source": []
  }
 ],
 "metadata": {
  "kernelspec": {
   "display_name": "Python 3",
   "language": "python",
   "name": "python3"
  },
  "language_info": {
   "codemirror_mode": {
    "name": "ipython",
    "version": 3
   },
   "file_extension": ".py",
   "mimetype": "text/x-python",
   "name": "python",
   "nbconvert_exporter": "python",
   "pygments_lexer": "ipython3",
   "version": "3.7.3"
  }
 },
 "nbformat": 4,
 "nbformat_minor": 2
}
